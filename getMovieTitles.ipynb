{
 "cells": [
  {
   "cell_type": "markdown",
   "metadata": {},
   "source": [
    "# getMovieTitles"
   ]
  },
  {
   "cell_type": "markdown",
   "metadata": {},
   "source": [
    "#### This function uses Rest API calls to pull movie titles from a given url\n",
    "\n",
    "\n",
    "\n",
    "\n",
    "\n"
   ]
  },
  {
   "cell_type": "code",
   "execution_count": 2,
   "metadata": {},
   "outputs": [],
   "source": [
    "def  getMovieTitles(substr,url):\n",
    "    import requests\n",
    "    import json\n",
    "    movie_title = substr\n",
    "    endpointurl = url \n",
    "    headers = {'Content-Type': 'application/json'}\n",
    "    PARAMS = {'Title': movie_title}\n",
    "    resp = requests.get(endpointurl, params = PARAMS, headers = headers)\n",
    "    respdict = dict(resp.json())\n",
    "    num_pages = respdict['total_pages']\n",
    "    \n",
    "    movie_list = []\n",
    "    page_num = 1\n",
    "    \n",
    "    while page_num <= num_pages:\n",
    "        PARAMS = {'Title': movie_title, 'page': page_num}\n",
    "        resp = requests.get(endpointurl, params = PARAMS, headers = headers)\n",
    "        respdict = dict(resp.json())\n",
    "        title_dict = respdict['data']\n",
    "        \n",
    "        for row in title_dict:\n",
    "            title = row['Title']\n",
    "            movie_list.append(title)\n",
    "        page_num += page_num\n",
    "    movie_list = sorted(movie_list, reverse=False)    \n",
    "    return movie_list\n"
   ]
  },
  {
   "cell_type": "code",
   "execution_count": 3,
   "metadata": {},
   "outputs": [
    {
     "data": {
      "text/plain": [
       "['Amazing Spiderman Syndrome',\n",
       " 'Fighting, Flying and Driving: The Stunts of Spiderman 3',\n",
       " \"Hollywood's Master Storytellers: Spiderman Live\",\n",
       " 'Italian Spiderman',\n",
       " 'Spiderman',\n",
       " 'Spiderman',\n",
       " 'Spiderman 5',\n",
       " 'Spiderman and Grandma',\n",
       " 'Spiderman in Cannes',\n",
       " 'Superman, Spiderman or Batman',\n",
       " 'The Amazing Spiderman T4 Premiere Special',\n",
       " 'The Death of Spiderman',\n",
       " 'They Call Me Spiderman']"
      ]
     },
     "execution_count": 3,
     "metadata": {},
     "output_type": "execute_result"
    }
   ],
   "source": [
    "site = \"https://jsonmock.hackerrank.com/api/movies/search/json\"\n",
    "title = 'spiderman'\n",
    "getMovieTitles(title, site)"
   ]
  },
  {
   "cell_type": "code",
   "execution_count": null,
   "metadata": {},
   "outputs": [],
   "source": []
  }
 ],
 "metadata": {
  "kernelspec": {
   "display_name": "Python 3",
   "language": "python",
   "name": "python3"
  },
  "language_info": {
   "codemirror_mode": {
    "name": "ipython",
    "version": 3
   },
   "file_extension": ".py",
   "mimetype": "text/x-python",
   "name": "python",
   "nbconvert_exporter": "python",
   "pygments_lexer": "ipython3",
   "version": "3.6.5"
  }
 },
 "nbformat": 4,
 "nbformat_minor": 2
}
